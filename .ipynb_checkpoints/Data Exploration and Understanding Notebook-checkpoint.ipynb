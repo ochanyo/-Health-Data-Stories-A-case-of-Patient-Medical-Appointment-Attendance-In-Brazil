{
 "cells": [
  {
   "cell_type": "code",
   "execution_count": null,
   "metadata": {},
   "outputs": [],
   "source": [
    "#Importing requisite libraries\n",
    "import matplotlib.pyplot as plt\n",
    "import numpy as np\n",
    "import pandas as pd\n",
    "import seaborn as sns\n",
    "%matplotlib\n",
    "%matplotlib inline "
   ]
  },
  {
   "cell_type": "code",
   "execution_count": null,
   "metadata": {},
   "outputs": [],
   "source": [
    "#Import the dataset\n",
    "df_brazil=pd.read_csv('brazil_data.csv')"
   ]
  },
  {
   "cell_type": "code",
   "execution_count": null,
   "metadata": {},
   "outputs": [],
   "source": [
    "#Checking data\n",
    "df_brazil.head()"
   ]
  },
  {
   "cell_type": "code",
   "execution_count": null,
   "metadata": {},
   "outputs": [],
   "source": [
    "df_brazil.tail()"
   ]
  },
  {
   "cell_type": "code",
   "execution_count": null,
   "metadata": {},
   "outputs": [],
   "source": [
    "#checking for null values in the dataset.\n",
    "df_brazil.isnull().sum()"
   ]
  },
  {
   "cell_type": "code",
   "execution_count": null,
   "metadata": {},
   "outputs": [],
   "source": [
    "df_brazil.shape\n",
    "#dataframe has 110527 rows and 14 columns"
   ]
  },
  {
   "cell_type": "code",
   "execution_count": null,
   "metadata": {},
   "outputs": [],
   "source": [
    "#checking for duplicates \n",
    "df_brazil.duplicated().sum()"
   ]
  },
  {
   "cell_type": "code",
   "execution_count": null,
   "metadata": {},
   "outputs": [],
   "source": [
    "df_brazil.nunique()"
   ]
  },
  {
   "cell_type": "code",
   "execution_count": null,
   "metadata": {},
   "outputs": [],
   "source": [
    "df_brazil.dtypes"
   ]
  },
  {
   "cell_type": "code",
   "execution_count": null,
   "metadata": {},
   "outputs": [],
   "source": [
    "df_brazil.describe()"
   ]
  },
  {
   "cell_type": "code",
   "execution_count": null,
   "metadata": {},
   "outputs": [],
   "source": [
    "df_brazil.info()"
   ]
  },
  {
   "cell_type": "code",
   "execution_count": null,
   "metadata": {},
   "outputs": [],
   "source": [
    "#checking for duplicated patientID\n",
    "df_brazil['PatientId'].duplicated().sum()\n",
    "#attributed to the patients booking multiple appointments"
   ]
  },
  {
   "cell_type": "code",
   "execution_count": null,
   "metadata": {},
   "outputs": [],
   "source": [
    "#checking for duplicated AppointmentID\n",
    "df_brazil['AppointmentID'].duplicated().sum()\n",
    "#unique IDs none was repeated as it was unique ID"
   ]
  },
  {
   "cell_type": "code",
   "execution_count": null,
   "metadata": {},
   "outputs": [],
   "source": []
  },
  {
   "cell_type": "markdown",
   "metadata": {},
   "source": [
    "### Data Cleaning"
   ]
  },
  {
   "cell_type": "code",
   "execution_count": null,
   "metadata": {},
   "outputs": [],
   "source": [
    "# A number of gaps were seen with the data. In this step we will clean the data and make it ready for analyis\n"
   ]
  },
  {
   "cell_type": "code",
   "execution_count": null,
   "metadata": {},
   "outputs": [],
   "source": [
    "#renaming columns that had been misspelt.\n",
    "df_brazil.rename(columns={'Hipertension': 'Hypertension','Handcap':'Handicap'},inplace=True)\n",
    "df_brazil.head(1)"
   ]
  },
  {
   "cell_type": "code",
   "execution_count": null,
   "metadata": {},
   "outputs": [],
   "source": [
    "#Removing Negative Ages if any by multiplying by -1\n",
    "df_brazil[df_brazil['Age'] < 0]\n",
    "df_brazil['Age']=df_brazil['Age'].apply(lambda x: x*-1 if x < 0 else x)\n",
    "df_brazil[df_brazil['Age'] < 0]\n",
    "df_brazil.head(1)"
   ]
  },
  {
   "cell_type": "code",
   "execution_count": null,
   "metadata": {},
   "outputs": [],
   "source": [
    "#changing datatypes of ScheduledDay and AppointmentDay\n",
    "df_brazil['AppointmentDay']=pd.to_datetime(df_brazil['AppointmentDay'])\n",
    "df_brazil['ScheduledDay']=pd.to_datetime(df_brazil['ScheduledDay'])\n",
    "defr=df_brazil['AppointmentDay']-df_brazil['ScheduledDay']"
   ]
  },
  {
   "cell_type": "code",
   "execution_count": null,
   "metadata": {},
   "outputs": [],
   "source": [
    "#lowercasing column names and removing '-' replacing with '_'\n",
    "df_brazil.rename(columns=lambda x: x.strip().lower().replace(\"-\", \"_\"), inplace=True)"
   ]
  },
  {
   "cell_type": "code",
   "execution_count": null,
   "metadata": {},
   "outputs": [],
   "source": [
    "#renaming the columns 'patientid','appointmentid','scheduledday','appointmentday'\n",
    "df_brazil.rename(columns={'patientid':'patient_id','appointmentid':'appointment_id','scheduledday':'scheduled_day','appointmentday':'appointment_day'},inplace=True)\n",
    "df_brazil.head(1)"
   ]
  },
  {
   "cell_type": "code",
   "execution_count": null,
   "metadata": {},
   "outputs": [],
   "source": [
    "#Data is now consistent and ready for analysis. we proceed to the next stage which is Exploratory data analysis."
   ]
  },
  {
   "cell_type": "markdown",
   "metadata": {},
   "source": [
    "## Exploratory Data Analysis\n",
    "Now that the data is clean and ready for use for analysis we will proceed to answer questions we had been asked earlier on regarding the data.\n",
    "We will compute some of those statistics and use visualizations to represent our data"
   ]
  },
  {
   "cell_type": "markdown",
   "metadata": {},
   "source": [
    "1. What is the proportion of patients who missed their appointments?"
   ]
  },
  {
   "cell_type": "code",
   "execution_count": null,
   "metadata": {},
   "outputs": [],
   "source": [
    "\n",
    "appointments=df_brazil.groupby(['no_show'])['no_show'].count().to_frame()\n",
    "appointments"
   ]
  },
  {
   "cell_type": "code",
   "execution_count": null,
   "metadata": {},
   "outputs": [],
   "source": [
    "cmap=plt.get_cmap('tab20c')\n",
    "color=cmap(np.array([1,2,5,6,9,10]))\n",
    "plt.pie(appointments.no_show,colors=color,labels=appointments.index,startangle=90,autopct=\"%1.0f%%\",explode=None,shadow=True)\n",
    "plt.title(\"Attendance of Patients To Medical Appointments\")\n",
    "plt.show()"
   ]
  },
  {
   "cell_type": "markdown",
   "metadata": {},
   "source": [
    "From the above chart we can see 20% which transalates to 22,319 patients missing their appointments. 80% of the patients attended their appointments which translates to 88,209 patients.\n",
    "This understanding is premised on the fact that in the no_show column,'Yes' meansthe patient does not show and 'No' is that the patient shows up for the appointment."
   ]
  },
  {
   "cell_type": "markdown",
   "metadata": {},
   "source": [
    " 2. Did the scholarships affect attendance of medical appointments\n",
    "##### The scholarship is called Bolsa Família (Meaning; Family Allowance) is a social protection program of the Government of Brazil, part of network of federal assistance programs. Bolsa Família provided financial aid to poor Brazilian families. In order to be eligible, families had to ensure that children attend school and get vaccinated. A great initiative that was a major factor contributing to the reduction of poverty in Brazil, which fell 27.7% during the first term in the administration of Lula."
   ]
  },
  {
   "cell_type": "code",
   "execution_count": null,
   "metadata": {},
   "outputs": [],
   "source": [
    "#exploring the no_show column\n",
    "df_brazil.no_show.hist()\n",
    "plt.title('No Show Appointment')\n",
    "plt.ylabel('Frequency')\n",
    "plt.xlabel('Status')"
   ]
  },
  {
   "cell_type": "code",
   "execution_count": null,
   "metadata": {},
   "outputs": [],
   "source": [
    "df_brazil.no_show.value_counts()"
   ]
  },
  {
   "cell_type": "code",
   "execution_count": null,
   "metadata": {},
   "outputs": [],
   "source": [
    "#exploring the scholariships column\n",
    "df_brazil.scholarship.plot(kind='hist',title='Beneficiaries of scholarship')\n",
    "plt.ylabel('Frequency')\n",
    "plt.xlabel('Status')"
   ]
  },
  {
   "cell_type": "code",
   "execution_count": null,
   "metadata": {},
   "outputs": [],
   "source": [
    "#count of scholarship beneficiaries\n",
    "df_brazil.scholarship.value_counts()"
   ]
  },
  {
   "cell_type": "code",
   "execution_count": null,
   "metadata": {},
   "outputs": [],
   "source": [
    "#proceed to group by 'no_show' and see the way it relates to the scholarship column\n",
    "df_brazil.groupby('no_show').scholarship.value_counts()"
   ]
  },
  {
   "cell_type": "markdown",
   "metadata": {},
   "source": [
    "From the above we can see the total number of scholarship beneficiaries is 10,861.\n",
    "This translates to 10.1765% of the total number of patients."
   ]
  },
  {
   "cell_type": "code",
   "execution_count": null,
   "metadata": {},
   "outputs": [],
   "source": [
    "#plotting graphs to show the relationship better\n",
    "df_brazil.groupby('no_show').scholarship.value_counts().plot(kind='bar',title='Beneficiary Status')\n",
    "plt.ylabel('Total number')\n",
    "plt.xlabel('Status of patient')"
   ]
  },
  {
   "cell_type": "markdown",
   "metadata": {},
   "source": [
    "We had made an earlier assumption on the no_show columns that: 'No' means the patient does show and 'Yes' means that the patient doesn't show. For the scholarships, \"0\" means not a beneficary and \"1\" indicates the patient is a beneficiary of the scholarship.\n",
    "\n",
    "We can see that a total of 8283 patients out of the 10861 beneficiaries showed up for their appointment.That means more than half of the beneficiaries showed up for their appointment.\n",
    "This implies then that the Bolsa Familia social protection program improved attendance of medical appointments by patients."
   ]
  },
  {
   "cell_type": "markdown",
   "metadata": {},
   "source": [
    "### 3. What is the proportion of women and men who have benefitted from the scholarship?"
   ]
  },
  {
   "cell_type": "code",
   "execution_count": null,
   "metadata": {},
   "outputs": [],
   "source": [
    "df_brazil.groupby('scholarship').gender.value_counts()"
   ]
  },
  {
   "cell_type": "code",
   "execution_count": null,
   "metadata": {},
   "outputs": [],
   "source": [
    "df_brazil.groupby('scholarship').gender.value_counts().plot(kind='bar',title='Beneficiary Status by Gender')\n",
    "plt.ylabel('Total number')\n",
    "plt.xlabel('Gender and Beneficiary Status')"
   ]
  },
  {
   "cell_type": "markdown",
   "metadata": {},
   "source": [
    "From this we can see that 62,987 women failed to get the government social protection support this is vis a vis 36,679 men; while 8,853 (8.01%) men vis a vis 2008(1.817%) men got the governemt social protection support. We can thus deduce that more women than men got government social support protection program. The total number of people who got into the government support program was still low and might need to be improved."
   ]
  },
  {
   "cell_type": "markdown",
   "metadata": {},
   "source": [
    "3. How did diagnosis/medical condition and medical appointment attendance compare?"
   ]
  },
  {
   "cell_type": "code",
   "execution_count": null,
   "metadata": {},
   "outputs": [],
   "source": [
    "df_brazil.groupby('no_show').hypertension.value_counts()"
   ]
  },
  {
   "cell_type": "code",
   "execution_count": null,
   "metadata": {},
   "outputs": [],
   "source": [
    "#Hypertension\n",
    "df_brazil.groupby('no_show').hypertension.value_counts().plot(kind='bar',title='Appointment Attendance by Condition-Hypertension')\n",
    "plt.ylabel('Total number')\n",
    "plt.xlabel('Condition and Appointment Attendance-Hypertension')"
   ]
  },
  {
   "cell_type": "code",
   "execution_count": null,
   "metadata": {},
   "outputs": [],
   "source": [
    "#Diabetes\n",
    "df_brazil.groupby('no_show').diabetes.value_counts()"
   ]
  },
  {
   "cell_type": "code",
   "execution_count": null,
   "metadata": {},
   "outputs": [],
   "source": [
    "df_brazil.groupby('no_show').hypertension.value_counts().plot(kind='bar',title='Appointment Attendance by Condition-Diabetes')\n",
    "plt.ylabel('Total number')\n",
    "plt.xlabel('Condition and Appointment Attendance-Diabetes')"
   ]
  },
  {
   "cell_type": "code",
   "execution_count": null,
   "metadata": {},
   "outputs": [],
   "source": [
    "#Handicap\n",
    "df_brazil.groupby('no_show').handicap.value_counts()"
   ]
  },
  {
   "cell_type": "code",
   "execution_count": null,
   "metadata": {},
   "outputs": [],
   "source": [
    "df_brazil.groupby('no_show').hypertension.value_counts().plot(kind='bar',title='Appointment Attendance by Condition-Handicap')\n",
    "plt.ylabel('Total number')\n",
    "plt.xlabel('Condition and Appointment Attendance-Handicap')"
   ]
  },
  {
   "cell_type": "code",
   "execution_count": null,
   "metadata": {},
   "outputs": [],
   "source": [
    "#Alcoholism\n",
    "df_brazil.groupby('no_show').alcoholism.value_counts()"
   ]
  },
  {
   "cell_type": "code",
   "execution_count": null,
   "metadata": {},
   "outputs": [],
   "source": [
    "df_brazil.groupby('no_show').hypertension.value_counts().plot(kind='bar',title='Appointment Attendance by Condition-Alcoholism')\n",
    "plt.ylabel('Total number')\n",
    "plt.xlabel('Condition and Appointment Attendance-Alcoholism')"
   ]
  },
  {
   "cell_type": "markdown",
   "metadata": {},
   "source": [
    "explain the results above"
   ]
  }
 ],
 "metadata": {
  "interpreter": {
   "hash": "dc07d24e2f18896857f0b2a651fe84ba40ce7b297e58d8804a308c8039f752a6"
  },
  "kernelspec": {
   "display_name": "Python 3",
   "language": "python",
   "name": "python3"
  },
  "language_info": {
   "codemirror_mode": {
    "name": "ipython",
    "version": 3
   },
   "file_extension": ".py",
   "mimetype": "text/x-python",
   "name": "python",
   "nbconvert_exporter": "python",
   "pygments_lexer": "ipython3",
   "version": "3.9.0"
  }
 },
 "nbformat": 4,
 "nbformat_minor": 2
}
